{
 "cells": [
  {
   "cell_type": "markdown",
   "id": "6fea9221",
   "metadata": {},
   "source": [
    "<b><span style=\"font-size: 30px;\"> DIFFERENTIALLY PRIVATE MACHINE LEARNING </span></b>"
   ]
  },
  {
   "cell_type": "markdown",
   "id": "fdbfda4f",
   "metadata": {},
   "source": [
    "Author: Sukanya Lahkar  \n",
    "Date: 09-12-2024"
   ]
  },
  {
   "cell_type": "markdown",
   "id": "6e74395b",
   "metadata": {},
   "source": [
    "<b> INTRODUCTION </b>  \n",
    "  \n",
    "Machine learning models have advanced significantly, but their development often relies on vast amounts of data, which can include sensitive personal information. This exposure raises concerns about data privacy, potentially making individuals vulnerable to hackers and cybercriminals. To address these concerns, it is essential for machine learning models to incorporate privacy-preserving algorithms. Differential privacy is one such approach that helps safeguard data by preventing unauthorized access to sensitive information.   \n",
    "\n",
    "This project aims to explore and apply the learnings from Zhanglong Ji <i>et al.'s</i> (2014) paper, <b>“Differential Privacy and Machine Learning: A Survey and Review,”</b> using an example dataset. The dataset, sourced from Dickson, E.R. <i>et al.'s</i> (1989) paper, <b>“Prognosis in Primary Biliary Cirrhosis: Model for Decision Making,”</b> contains 17 clinical features used to predict the survival state of patients with liver cirrhosis. Since this dataset holds sensitive medical and patient information, it serves as an ideal test case for evaluating differential privacy techniques.  \n",
    "  \n",
    "Zhanglong Ji <i>et al.'s</i> (2014) paper primarily addresses how to train a differentially private model with minimal noise while maintaining efficacy. To protect datasets and their outputs from hackers and cybercriminals, the concept of adding noise has been widely adopted. However, while noise addition enhances privacy, it can adversely impact the accuracy and predictive capabilities of machine learning models. Since the efficiency of these models is closely tied to their accuracy, managing the balance between privacy and performance is crucial. \n",
    "  \n",
    "<b> GOALS AND OBJECTIVES </b>  \n",
    "  \n",
    "The main objective of this project is to apply the insights gained from Zhanglong Ji <i>et al.'s</i> (2014) paper to the aforementioned real-world dataset and determine whether the questions and findings discussed in their review hold true when implemented practically. Some of the key conclusions from the study conducted by Zhanglong Ji <i>et al.</i> (2014) that will be verified and analyzed are:\n",
    "\n",
    "1. Adding noise to the dataset only once is more effective than adding noise multiple times.\n",
    "2. Lower global sensitivity results in smaller noise; this can be achieved by modifying the model, such as using a robust linear regression model instead of more commonly used models.\n",
    "3. For privacy to be considered \"free,\" the noise introduced to maintain privacy must be less than the noise arising from sample randomness. \n",
    "\n",
    "The expected outcome of this project will assess the efficacy of differential privacy in safeguarding data while maintaining model performance on contemporary datasets."
   ]
  },
  {
   "cell_type": "markdown",
   "id": "4eeb6978",
   "metadata": {},
   "source": [
    "<b> DESCRIPTION OF THE DATASET </b>   \n",
    "  \n",
    "The tabular dataset, obtained from UCI’s Machine Learning Repository, is licensed for sharing and adaptation with appropriate citation of Dickson, E.R. <i>et al.'s</i>(1989) paper, “Prognosis in Primary Biliary Cirrhosis: Model for Decision Making.” The data were collected prospectively from trial patients using standardized forms, definitions, and study protocols at entry and yearly intervals. For nontrial patients, baseline data were collected from their medical records. This dataset, comprising 20 features and 418 instances, is well-suited for the purposes of this project as it contains sensitive medical information, such as gender and age. Such sensitive data, when combined with other available information, could potentially be exploited by hackers for malicious activities. Health sector datasets are often prime targets for such breaches, making this dataset particularly relevant for evaluating privacy-preserving techniques. The features of the dataset include:\n",
    "\n",
    "1. ID: Unique identifier\n",
    "2. N_Days: Number of days between registration and the earlier of death, transplantation, or the study analysis time in July 1986\n",
    "3. Status: Status of the patient (C: censored, CL: censored due to liver transplantation, D: death)\n",
    "4. Drug: Type of drug (D-penicillamine or placebo)\n",
    "5. Age: Age in days\n",
    "6. Sex: Gender (M: male, F: female)\n",
    "7. Ascites: Presence of ascites (N: No, Y: Yes)\n",
    "8. Hepatomegaly: Presence of hepatomegaly (N: No, Y: Yes)\n",
    "9. Spiders: Presence of spider angiomas (N: No, Y: Yes)\n",
    "10. Edema: Presence of edema (N: No edema and no diuretic therapy, S: Edema resolved by diuretics or present without diuretics, Y: Edema despite diuretic therapy)\n",
    "11. Bilirubin: Serum bilirubin level in mg/dl\n",
    "12. Cholesterol: Serum cholesterol level in mg/dl\n",
    "13. Albumin: Albumin level in gm/dl\n",
    "14. Copper: Urine copper level in µg/day\n",
    "15. Alk_Phos: Alkaline phosphatase level in U/liter\n",
    "16. SGOT: SGOT (Serum Glutamic-Oxaloacetic Transaminase) level in U/ml\n",
    "17. Triglycerides: Triglycerides level in mg/dl\n",
    "18. Platelets: Platelets per cubic ml/1000\n",
    "19. Prothrombin: Prothrombin time in seconds\n",
    "20. Stage: Histologic stage of the disease (1, 2, 3, or 4)   \n",
    "  \n",
    "Below, the dataset has been loaded and assessed for quality, revealing the presence of missing values but no duplicate entries. To address this, the missing values in numerical columns are replaced with the median of their respective columns, while the missing values in categorical or object columns are filled with the most frequent value (mode) of those columns. Additionally, categorical values are converted to category codes to facilitate their use in the machine learning models. \n",
    "A summary statistics of the transformed dataset has also been generated."
   ]
  },
  {
   "cell_type": "code",
   "execution_count": 1,
   "id": "aa2fea4e",
   "metadata": {},
   "outputs": [
    {
     "data": {
      "text/plain": [
       "(418, 20)"
      ]
     },
     "execution_count": 1,
     "metadata": {},
     "output_type": "execute_result"
    }
   ],
   "source": [
    "from IPython.core.interactiveshell import InteractiveShell\n",
    "InteractiveShell.ast_node_interactivity = 'all'\n",
    "from sklearn.exceptions import ConvergenceWarning\n",
    "\n",
    "import warnings\n",
    "warnings.filterwarnings(\"ignore\", category=FutureWarning)\n",
    "warnings.filterwarnings(\"ignore\", category=ConvergenceWarning)\n",
    "\n",
    "#Load data\n",
    "import pandas as pd\n",
    "df = pd.read_csv(r\"C:\\Users\\asus\\Documents\\Data Ethics\\cirrhosis.csv\")\n",
    "df.shape"
   ]
  },
  {
   "cell_type": "code",
   "execution_count": 2,
   "id": "9e2076ca",
   "metadata": {},
   "outputs": [
    {
     "name": "stdout",
     "output_type": "stream",
     "text": [
      "There are missing values in the dataset\n",
      "Number of duplicate data entries: 0\n"
     ]
    }
   ],
   "source": [
    "if df.isnull().sum().any():    #Check for missing values\n",
    "    print(\"There are missing values in the dataset\")\n",
    "else: \n",
    "    print(\"No missing values\") \n",
    "print(\"Number of duplicate data entries:\", df.duplicated().sum())  #Check for duplicates"
   ]
  },
  {
   "cell_type": "code",
   "execution_count": 3,
   "id": "bb8d5a8a",
   "metadata": {},
   "outputs": [],
   "source": [
    "df_original = df.copy()  #Keeping the original dataset as is\n",
    "numerical_columns = df.select_dtypes(include=['int64', 'float64']).columns\n",
    "objcol = df.select_dtypes(include=['object']).columns\n",
    "#Filling missing values in numerical columns with the median\n",
    "df[numerical_columns] = df[numerical_columns].fillna(df[numerical_columns].median())\n",
    "# Filling missing values in object columns with the mode\n",
    "for col in objcol:\n",
    "    df[col] = df[col].fillna(df[col].mode()[0])"
   ]
  },
  {
   "cell_type": "code",
   "execution_count": 4,
   "id": "0f792682",
   "metadata": {},
   "outputs": [
    {
     "name": "stdout",
     "output_type": "stream",
     "text": [
      "No missing values\n"
     ]
    }
   ],
   "source": [
    "if df.isnull().sum().any():    #Check and confirm for missing values again\n",
    "    print(\"There are missing values in the dataset\")\n",
    "else: \n",
    "    print(\"No missing values\") "
   ]
  },
  {
   "cell_type": "code",
   "execution_count": 5,
   "id": "385186ee",
   "metadata": {
    "scrolled": true
   },
   "outputs": [
    {
     "data": {
      "text/html": [
       "<div>\n",
       "<style scoped>\n",
       "    .dataframe tbody tr th:only-of-type {\n",
       "        vertical-align: middle;\n",
       "    }\n",
       "\n",
       "    .dataframe tbody tr th {\n",
       "        vertical-align: top;\n",
       "    }\n",
       "\n",
       "    .dataframe thead th {\n",
       "        text-align: right;\n",
       "    }\n",
       "</style>\n",
       "<table border=\"1\" class=\"dataframe\">\n",
       "  <thead>\n",
       "    <tr style=\"text-align: right;\">\n",
       "      <th></th>\n",
       "      <th>Status</th>\n",
       "      <th>Drug</th>\n",
       "      <th>Age</th>\n",
       "      <th>Sex</th>\n",
       "      <th>Ascites</th>\n",
       "      <th>Hepatomegaly</th>\n",
       "      <th>Spiders</th>\n",
       "      <th>Edema</th>\n",
       "      <th>Bilirubin</th>\n",
       "      <th>Cholesterol</th>\n",
       "      <th>Albumin</th>\n",
       "      <th>Copper</th>\n",
       "      <th>Alk_Phos</th>\n",
       "      <th>SGOT</th>\n",
       "      <th>Tryglicerides</th>\n",
       "      <th>Platelets</th>\n",
       "      <th>Prothrombin</th>\n",
       "      <th>Stage</th>\n",
       "    </tr>\n",
       "  </thead>\n",
       "  <tbody>\n",
       "    <tr>\n",
       "      <th>0</th>\n",
       "      <td>2</td>\n",
       "      <td>0</td>\n",
       "      <td>21464</td>\n",
       "      <td>0</td>\n",
       "      <td>1</td>\n",
       "      <td>1</td>\n",
       "      <td>1</td>\n",
       "      <td>2</td>\n",
       "      <td>14.5</td>\n",
       "      <td>261.0</td>\n",
       "      <td>2.60</td>\n",
       "      <td>156.0</td>\n",
       "      <td>1718.0</td>\n",
       "      <td>137.95</td>\n",
       "      <td>172.0</td>\n",
       "      <td>190.0</td>\n",
       "      <td>12.2</td>\n",
       "      <td>4.0</td>\n",
       "    </tr>\n",
       "    <tr>\n",
       "      <th>1</th>\n",
       "      <td>0</td>\n",
       "      <td>0</td>\n",
       "      <td>20617</td>\n",
       "      <td>0</td>\n",
       "      <td>0</td>\n",
       "      <td>1</td>\n",
       "      <td>1</td>\n",
       "      <td>0</td>\n",
       "      <td>1.1</td>\n",
       "      <td>302.0</td>\n",
       "      <td>4.14</td>\n",
       "      <td>54.0</td>\n",
       "      <td>7394.8</td>\n",
       "      <td>113.52</td>\n",
       "      <td>88.0</td>\n",
       "      <td>221.0</td>\n",
       "      <td>10.6</td>\n",
       "      <td>3.0</td>\n",
       "    </tr>\n",
       "    <tr>\n",
       "      <th>2</th>\n",
       "      <td>2</td>\n",
       "      <td>0</td>\n",
       "      <td>25594</td>\n",
       "      <td>1</td>\n",
       "      <td>0</td>\n",
       "      <td>0</td>\n",
       "      <td>0</td>\n",
       "      <td>1</td>\n",
       "      <td>1.4</td>\n",
       "      <td>176.0</td>\n",
       "      <td>3.48</td>\n",
       "      <td>210.0</td>\n",
       "      <td>516.0</td>\n",
       "      <td>96.10</td>\n",
       "      <td>55.0</td>\n",
       "      <td>151.0</td>\n",
       "      <td>12.0</td>\n",
       "      <td>4.0</td>\n",
       "    </tr>\n",
       "    <tr>\n",
       "      <th>3</th>\n",
       "      <td>2</td>\n",
       "      <td>0</td>\n",
       "      <td>19994</td>\n",
       "      <td>0</td>\n",
       "      <td>0</td>\n",
       "      <td>1</td>\n",
       "      <td>1</td>\n",
       "      <td>1</td>\n",
       "      <td>1.8</td>\n",
       "      <td>244.0</td>\n",
       "      <td>2.54</td>\n",
       "      <td>64.0</td>\n",
       "      <td>6121.8</td>\n",
       "      <td>60.63</td>\n",
       "      <td>92.0</td>\n",
       "      <td>183.0</td>\n",
       "      <td>10.3</td>\n",
       "      <td>4.0</td>\n",
       "    </tr>\n",
       "    <tr>\n",
       "      <th>4</th>\n",
       "      <td>1</td>\n",
       "      <td>1</td>\n",
       "      <td>13918</td>\n",
       "      <td>0</td>\n",
       "      <td>0</td>\n",
       "      <td>1</td>\n",
       "      <td>1</td>\n",
       "      <td>0</td>\n",
       "      <td>3.4</td>\n",
       "      <td>279.0</td>\n",
       "      <td>3.53</td>\n",
       "      <td>143.0</td>\n",
       "      <td>671.0</td>\n",
       "      <td>113.15</td>\n",
       "      <td>72.0</td>\n",
       "      <td>136.0</td>\n",
       "      <td>10.9</td>\n",
       "      <td>3.0</td>\n",
       "    </tr>\n",
       "  </tbody>\n",
       "</table>\n",
       "</div>"
      ],
      "text/plain": [
       "   Status  Drug    Age  Sex  Ascites  Hepatomegaly  Spiders  Edema  Bilirubin  \\\n",
       "0       2     0  21464    0        1             1        1      2       14.5   \n",
       "1       0     0  20617    0        0             1        1      0        1.1   \n",
       "2       2     0  25594    1        0             0        0      1        1.4   \n",
       "3       2     0  19994    0        0             1        1      1        1.8   \n",
       "4       1     1  13918    0        0             1        1      0        3.4   \n",
       "\n",
       "   Cholesterol  Albumin  Copper  Alk_Phos    SGOT  Tryglicerides  Platelets  \\\n",
       "0        261.0     2.60   156.0    1718.0  137.95          172.0      190.0   \n",
       "1        302.0     4.14    54.0    7394.8  113.52           88.0      221.0   \n",
       "2        176.0     3.48   210.0     516.0   96.10           55.0      151.0   \n",
       "3        244.0     2.54    64.0    6121.8   60.63           92.0      183.0   \n",
       "4        279.0     3.53   143.0     671.0  113.15           72.0      136.0   \n",
       "\n",
       "   Prothrombin  Stage  \n",
       "0         12.2    4.0  \n",
       "1         10.6    3.0  \n",
       "2         12.0    4.0  \n",
       "3         10.3    4.0  \n",
       "4         10.9    3.0  "
      ]
     },
     "execution_count": 5,
     "metadata": {},
     "output_type": "execute_result"
    }
   ],
   "source": [
    "df = df.drop(['ID','N_Days'], axis=1)  #dropping insignificant columns from the dataset\n",
    "df[objcol] = df[objcol].astype('category')\n",
    "categorical_columns = df.select_dtypes(include='category').columns\n",
    "#Converting all categorical columns to category codes\n",
    "df[categorical_columns] = df[categorical_columns].apply(lambda x: x.cat.codes)\n",
    "df.head()"
   ]
  },
  {
   "cell_type": "markdown",
   "id": "9b25b484",
   "metadata": {},
   "source": [
    "Before proceeding with the implementations, the class distribution of the dataset has been examined to assess the balance among the classes. It is observed that there are only 25 instances of class 1 labels. To prevent any potential bias or imbalance from affecting the model's performance, all data with a \"Status\" label of 1 has been removed. It is important to note that the primary objective of this project is not to develop a model that accurately predicts all class labels, but rather to study the impact of noise on data protection and its effects on model performance."
   ]
  },
  {
   "cell_type": "code",
   "execution_count": 6,
   "id": "bd0ea867",
   "metadata": {},
   "outputs": [
    {
     "name": "stdout",
     "output_type": "stream",
     "text": [
      "Class distribution: Status\n",
      "0    232\n",
      "2    161\n",
      "1     25\n",
      "Name: count, dtype: int64\n"
     ]
    }
   ],
   "source": [
    "print(\"Class distribution:\", df['Status'].value_counts())\n",
    "df = df[df['Status'] != 1]\n",
    "X = df.drop('Status', axis=1)\n",
    "y = df['Status']"
   ]
  },
  {
   "cell_type": "markdown",
   "id": "e057a635",
   "metadata": {},
   "source": [
    "<b> METHODOLOGIES, IMPLEMENTATION AND ANALYSIS OF THE RESULTS </b>  \n",
    "  \n",
    "<font color = blue><b><i> Case 1: Adding noise to the dataset only once is more effective than adding noise multiple times. </b></i></font>\n",
    "\n",
    "<b><i>Method</b></i> - To evaluate the effectiveness of adding noise to a dataset, in the below code, a comparative analysis is conducted using logistic regression with cross-validation. In the first scenario, Laplacian noise is added once using a fixed privacy budget (ϵ = 1). A privacy budget in differential privacy quantifies the allowable data exposure, balancing privacy protection and data utility by limiting cumulative privacy loss. In the second scenario, the same privacy budget is distributed across multiple iterations, introducing cumulative noise. Performance metrics including accuracy, precision, and recall are calculated using stratified K-fold cross-validation. The mean and standard deviation of these metrics are then compared for the two models. Also, there are 232 data instances having class label 0 and 161 instances having Class label 2. So, 'class_weight=balanced' is set in the Logistic Regression modeling to adjust the weights based on class frequencies, to make sure there is no affect due to the imbalance of the dataset."
   ]
  },
  {
   "cell_type": "code",
   "execution_count": 7,
   "id": "de1d69c1",
   "metadata": {},
   "outputs": [
    {
     "name": "stdout",
     "output_type": "stream",
     "text": [
      "Cross-Validation Results (Noise Added Once):\n",
      "Mean Accuracy: 0.7656, Std Dev: 0.0750\n",
      "Mean Precision: 0.7731, Std Dev: 0.0742\n",
      "Mean Recall: 0.7656, Std Dev: 0.0750\n",
      "\n",
      "Cross-Validation Results (Noise Added Multiple Times):\n",
      "Mean Accuracy: 0.7223, Std Dev: 0.0749\n",
      "Mean Precision: 0.7285, Std Dev: 0.0738\n",
      "Mean Recall: 0.7223, Std Dev: 0.0749\n",
      "\n",
      "Cumulative Noise Effect (Std Dev): 12.6718\n"
     ]
    }
   ],
   "source": [
    "from sklearn.linear_model import LogisticRegression\n",
    "from sklearn.model_selection import cross_val_score, StratifiedKFold\n",
    "from sklearn.preprocessing import StandardScaler\n",
    "from sklearn.metrics import make_scorer, precision_score, recall_score\n",
    "import numpy as np\n",
    "\n",
    "#Function to add Laplacian noise\n",
    "def add_noise(data, epsilon=1.0, method='laplace', n_iterations=1, random_state=None):\n",
    "    np.random.seed(random_state)\n",
    "    scaled_epsilon = epsilon / n_iterations \n",
    "    noise = np.random.laplace(loc=0, scale=1/scaled_epsilon, size=data.shape)\n",
    "    return data + noise\n",
    "\n",
    "#Cross-Validation function with additional metrics\n",
    "def cross_validate_model(X, y, model=None, n_splits=5, random_state=42):\n",
    "    scaler = StandardScaler()\n",
    "    X_scaled = scaler.fit_transform(X)  #Scaling the features for Logistic Regression\n",
    "    \n",
    "    if model is None:\n",
    "        model = LogisticRegression(max_iter=500, random_state=random_state, class_weight='balanced')\n",
    "    kf = StratifiedKFold(n_splits=n_splits, shuffle=True, random_state=random_state)\n",
    "\n",
    "    precision = cross_val_score(model, X_scaled, y, cv=kf, scoring=make_scorer(precision_score, average='weighted'))\n",
    "    recall = cross_val_score(model, X_scaled, y, cv=kf, scoring=make_scorer(recall_score, average='weighted'))\n",
    "    accuracy = cross_val_score(model, X_scaled, y, cv=kf, scoring='accuracy')\n",
    "    \n",
    "    return accuracy.mean(), accuracy.std(), precision.mean(), precision.std(), recall.mean(), recall.std()\n",
    "\n",
    "epsilon = 1 #Privacy budget\n",
    "n_iterations = 5  #Number of times noise is added\n",
    "\n",
    "#Scenario 1: Noise added once\n",
    "X_noisy_once = add_noise(X.copy(), epsilon=epsilon, method='laplace', random_state=42)\n",
    "mean_acc_once, std_acc_once, mean_prec_once, std_prec_once, mean_recall_once, std_recall_once = cross_validate_model(X_noisy_once, y, n_splits=5, random_state=42)\n",
    "\n",
    "#Scenario 2: Noise added multiple times with cumulative noise effect\n",
    "cum_noisy_datasets = []\n",
    "for i in range(n_iterations):\n",
    "    X_noisy = add_noise(X.copy(), epsilon=epsilon, method='laplace', n_iterations=n_iterations, random_state=42 + i)\n",
    "    cum_noisy_datasets.append(X_noisy)\n",
    "\n",
    "#Aggregating the noisy datasets and calculating cumulative noise for Scenario 2\n",
    "cum_X_noisy = np.mean(cum_noisy_datasets, axis=0)  \n",
    "cum_noise_effect = np.std(cum_noisy_datasets, axis=0) * np.sqrt(n_iterations)\n",
    "mean_acc_mul, std_acc_mul, mean_prec_mul, std_prec_mul, mean_recall_mul, std_recall_mul = cross_validate_model(cum_X_noisy, y, n_splits=5, random_state=42)\n",
    "\n",
    "#Results display\n",
    "print(\"Cross-Validation Results (Noise Added Once):\")\n",
    "print(f\"Mean Accuracy: {mean_acc_once:.4f}, Std Dev: {std_acc_once:.4f}\")\n",
    "print(f\"Mean Precision: {mean_prec_once:.4f}, Std Dev: {std_prec_once:.4f}\")\n",
    "print(f\"Mean Recall: {mean_recall_once:.4f}, Std Dev: {std_recall_once:.4f}\")\n",
    "\n",
    "print(\"\\nCross-Validation Results (Noise Added Multiple Times):\")\n",
    "print(f\"Mean Accuracy: {mean_acc_mul:.4f}, Std Dev: {std_acc_mul:.4f}\")\n",
    "print(f\"Mean Precision: {mean_prec_mul:.4f}, Std Dev: {std_prec_mul:.4f}\")\n",
    "print(f\"Mean Recall: {mean_recall_mul:.4f}, Std Dev: {std_recall_mul:.4f}\")\n",
    "\n",
    "print(f\"\\nCumulative Noise Effect (Std Dev): {cum_noise_effect.mean():.4f}\")"
   ]
  },
  {
   "cell_type": "markdown",
   "id": "5eb9af24",
   "metadata": {},
   "source": [
    "<b><i>Output Analysis</b></i> - As can be observed from the output above, the performance metrics (accuracy, precision, and recall) are consistently higher when noise is added only once compared to multiple noise additions. Adding noise once results in a significant improvement of the model accuracy (76.56% vs. 72.23%). For precision and recall metrics also, both are higher when noise is added once (77.31% vs. 72.85% for precision, 76.56% vs. 72.23% for recall). The cumulative noise effect (12.6718) remains high, which negatively impacts the results when noise is added multiple times."
   ]
  },
  {
   "cell_type": "markdown",
   "id": "0fe92fe8",
   "metadata": {},
   "source": [
    "<font color = blue><b><i> Case 2: Lower global sensitivity results in smaller noise; this can be achieved by modifying the model, such as using a robust linear regression model instead of more commonly used models. </b></i></font>  \n",
    "\n",
    "<b><i>Method</b></i> - Global sensitivity determines the magnitude of noise added in differential privacy, with higher sensitivity requiring more noise to ensure stronger privacy protection. In the following code block, to evaluate the effect of global sensitivity on noise magnitude in differential privacy, two models: Kernel SVM, which has higher sensitivity due to complex decision boundaries, and Linear SVM, which has lower sensitivity due to its simpler linear nature, has been compared. Arbitrarily, sensitivity values of 2 and 1 have been assigned to kernel SVM and linear SVM for simplification purposes. Laplacian noise proportional to each model's sensitivity is also added to the dataset, and performance metrics (accuracy, precision, and recall) are evaluated using stratified K-fold cross-validation. The noise scale of the two models, computed by dividing each model's global sensitivity by the privacy budget (ϵ = 1.5), are also compared."
   ]
  },
  {
   "cell_type": "code",
   "execution_count": 8,
   "id": "d8425f3d",
   "metadata": {},
   "outputs": [
    {
     "name": "stdout",
     "output_type": "stream",
     "text": [
      "Cross-Validation Results:\n",
      "Kernel SVM (Higher Sensitivity) -> Mean Accuracy: 0.7453, Std Dev: 0.0609\n",
      "Kernel SVM (Higher Sensitivity) -> Mean Precision: 0.7458, Std Dev: 0.0659\n",
      "Kernel SVM (Higher Sensitivity) -> Mean Recall: 0.7453, Std Dev: 0.0609\n",
      "\n",
      "Linear SVM (Lower Sensitivity) -> Mean Accuracy: 0.7607, Std Dev: 0.0636\n",
      "Linear SVM (Lower Sensitivity) -> Mean Precision: 0.7622, Std Dev: 0.0679\n",
      "Linear SVM (Lower Sensitivity) -> Mean Recall: 0.7607, Std Dev: 0.0636\n",
      "\n",
      "Noise Scales:\n",
      "Kernel SVM Noise Scale: 1.3333\n",
      "Linear SVM Noise Scale: 0.6667\n"
     ]
    }
   ],
   "source": [
    "from sklearn.svm import SVC, LinearSVC\n",
    "from sklearn.datasets import make_classification\n",
    "\n",
    "#Function to add Laplacian noise proportional to sensitivity\n",
    "def add_noise2(data, sensitivity, epsilon=1.5, random_state=None):\n",
    "    np.random.seed(random_state)\n",
    "    scale = sensitivity / epsilon\n",
    "    noise = np.random.laplace(loc=0, scale=scale, size=data.shape)\n",
    "    return data + noise\n",
    "\n",
    "sensitivity_kernel_svm = 2.0  #Assuming higher sensitivity for kernel SVM due to its complex decision boundaries\n",
    "sensitivity_linear_svm = 1.0  #Assuming Lower sensitivity for linear SVM due to its simpler linear nature\n",
    "epsilon_new = 1.5\n",
    "\n",
    "#Adding noise to the data\n",
    "X_noisy_kernel = add_noise2(X.copy(), sensitivity=sensitivity_kernel_svm, epsilon=epsilon_new, random_state=42)\n",
    "X_noisy_linear = add_noise2(X.copy(), sensitivity=sensitivity_linear_svm, epsilon=epsilon_new, random_state=42)\n",
    "\n",
    "#Kernel SVM model\n",
    "kernel_svm = SVC(kernel='rbf', C=1.0, random_state=42)\n",
    "mean_acc_kernel, std_acc_kernel, mean_prec_kernel, std_prec_kernel, mean_rec_kernel, std_rec_kernel = cross_validate_model(X_noisy_kernel, y, kernel_svm, random_state=42)\n",
    "\n",
    "#Linear SVM model\n",
    "linear_svm = LinearSVC(C=1.0, random_state=42, max_iter=5000)\n",
    "mean_acc_linear, std_acc_linear,  mean_prec_linear, std_prec_linear, mean_rec_linear, std_rec_linear = cross_validate_model(X_noisy_linear, y, linear_svm, random_state=42)\n",
    "\n",
    "#Results display\n",
    "print(\"Cross-Validation Results:\")\n",
    "print(f\"Kernel SVM (Higher Sensitivity) -> Mean Accuracy: {mean_acc_kernel:.4f}, Std Dev: {std_acc_kernel:.4f}\")\n",
    "print(f\"Kernel SVM (Higher Sensitivity) -> Mean Precision: {mean_prec_kernel:.4f}, Std Dev: {std_prec_kernel:.4f}\")\n",
    "print(f\"Kernel SVM (Higher Sensitivity) -> Mean Recall: {mean_rec_kernel:.4f}, Std Dev: {std_rec_kernel:.4f}\")\n",
    "print()\n",
    "print(f\"Linear SVM (Lower Sensitivity) -> Mean Accuracy: {mean_acc_linear:.4f}, Std Dev: {std_acc_linear:.4f}\")\n",
    "print(f\"Linear SVM (Lower Sensitivity) -> Mean Precision: {mean_prec_linear:.4f}, Std Dev: {std_prec_linear:.4f}\")\n",
    "print(f\"Linear SVM (Lower Sensitivity) -> Mean Recall: {mean_rec_linear:.4f}, Std Dev: {std_rec_linear:.4f}\")\n",
    "\n",
    "#Comparison of Noise Scale\n",
    "print(\"\\nNoise Scales:\")\n",
    "print(f\"Kernel SVM Noise Scale: {sensitivity_kernel_svm / epsilon_new:.4f}\")\n",
    "print(f\"Linear SVM Noise Scale: {sensitivity_linear_svm / epsilon_new:.4f}\")\n"
   ]
  },
  {
   "cell_type": "markdown",
   "id": "f09369f7",
   "metadata": {},
   "source": [
    "<b><i>Output Analysis</b></i> - The results above show the relationship between global sensitivity, the noise scale introduced to preserve privacy, and the resulting utility of the models. The Kernel SVM has higher global sensitivity (2.0), resulting in larger noise (noise scale is 1.333) being added to the dataset. The Linear SVM, with lower sensitivity (1.0), requires less noise (noise scale is 0.6667) to achieve the same level of privacy. Moreover, The Linear SVM (Lower Sensitivity) performs better in terms of mean accuracy (0.7607), precision (0.7622), and recall (0.7607) compared to the Kernel SVM (Higher Sensitivity), which has slightly lower utility metrics (accuracy being 0.7453, precision 0.7458, and recall around 0.7453). "
   ]
  },
  {
   "cell_type": "markdown",
   "id": "637ad5f5",
   "metadata": {},
   "source": [
    "<font color = blue><b><i> Case 3: For privacy to be considered \"free,\" the noise introduced to maintain privacy must be less than the noise arising from sample randomness. </b></i> </font> \n",
    "  \n",
    "<b><i>Method</b></i> - To evaluate when privacy noise becomes \"free\", the magnitude of privacy noise to the inherent sample randomness in the dataset has been compared in the below code snippet. Sample randomness noise is calculated as the standard deviation of the model accuracies from multiple random train-test splits. Privacy noise is introduced by adding Laplacian noise with two different privacy budgets: high (ϵ=42.0) and low (ϵ=0.5). High value of privacy budget means less noise to be added while low value of privacy budget indicate more noise to be added. The function 'add_noise2' from the above code is utilised/ reused to add the privacy noise for the two different scenarios here. The noise magnitudes are then visualized using a bar chart and compared."
   ]
  },
  {
   "cell_type": "code",
   "execution_count": 9,
   "id": "487d2a77",
   "metadata": {},
   "outputs": [
    {
     "data": {
      "text/plain": [
       "<Figure size 1000x600 with 0 Axes>"
      ]
     },
     "execution_count": 9,
     "metadata": {},
     "output_type": "execute_result"
    },
    {
     "data": {
      "text/plain": [
       "<BarContainer object of 3 artists>"
      ]
     },
     "execution_count": 9,
     "metadata": {},
     "output_type": "execute_result"
    },
    {
     "data": {
      "text/plain": [
       "Text(0, 0.5, 'Noise Magnitude')"
      ]
     },
     "execution_count": 9,
     "metadata": {},
     "output_type": "execute_result"
    },
    {
     "data": {
      "text/plain": [
       "Text(0.5, 1.0, 'Comparison of Noise: Sample Randomness vs Privacy Noise')"
      ]
     },
     "execution_count": 9,
     "metadata": {},
     "output_type": "execute_result"
    },
    {
     "data": {
      "image/png": "[encoded data removed]",
      "text/plain": [
       "<Figure size 1000x600 with 1 Axes>"
      ]
     },
     "metadata": {},
     "output_type": "display_data"
    },
    {
     "name": "stdout",
     "output_type": "stream",
     "text": [
      "Noise Magnitudes:\n",
      "Sample Randomness Noise: 0.0421\n",
      "Privacy Noise (High ε): 0.0238\n",
      "Privacy Noise (Low ε): 1.9985\n",
      "\n",
      "Model Performance:\n",
      "High Privacy Budget (ε=42.0): Mean Accuracy = 0.7835, Std Dev = 0.0518\n",
      "Low Privacy Budget (ε=0.5): Mean Accuracy = 0.7073, Std Dev = 0.0656\n"
     ]
    }
   ],
   "source": [
    "import matplotlib.pyplot as plt\n",
    "from sklearn.model_selection import train_test_split\n",
    "from sklearn.metrics import accuracy_score\n",
    "\n",
    "#Defining the function to calculate sample randomness noise\n",
    "def calculate_sample_randomness(X, y, model, n_splits=5):\n",
    "    accuracies = []\n",
    "    for _ in range(n_splits):\n",
    "        #Randomly splitting the dataset\n",
    "        X_train, X_test, y_train, y_test = train_test_split(X, y, test_size=0.3, random_state=np.random.randint(100))\n",
    "        model.fit(X_train, y_train)\n",
    "        y_pred = model.predict(X_test)\n",
    "        accuracies.append(accuracy_score(y_test, y_pred))\n",
    "    return np.std(accuracies) \n",
    "\n",
    "#Calculating sample randomness noise\n",
    "sample_randomness_noise = calculate_sample_randomness(X, y, linear_svm)\n",
    "\n",
    "#Adding privacy noise for two scenarios\n",
    "#Scenario 1: Privacy noise less than sample randomness\n",
    "epsilon_high = 42.0  #High privacy budget\n",
    "X_noisy_high = add_noise2(X.copy(), sensitivity=1.0, epsilon=epsilon_high, random_state=42)\n",
    "\n",
    "#Scenario 2: Privacy noise greater than sample randomness\n",
    "epsilon_low = 0.5  #Low privacy budget\n",
    "X_noisy_low = add_noise2(X.copy(), sensitivity=1.0, epsilon=epsilon_low, random_state=42)\n",
    "\n",
    "#Evaluating the privacy noise magnitudes\n",
    "privacy_noise_high = np.mean(np.abs(X_noisy_high - X)) \n",
    "privacy_noise_low = np.mean(np.abs(X_noisy_low - X))\n",
    "\n",
    "#Visualizing the comparison using bar chart\n",
    "labels = ['Sample Randomness', 'Privacy Noise (High ε)', 'Privacy Noise (Low ε)']\n",
    "values = [sample_randomness_noise, privacy_noise_high, privacy_noise_low]\n",
    "\n",
    "plt.figure(figsize=(10, 6))\n",
    "plt.bar(labels, values, color=['skyblue', 'lightgreen', 'salmon'])\n",
    "plt.ylabel('Noise Magnitude')\n",
    "plt.title('Comparison of Noise: Sample Randomness vs Privacy Noise')\n",
    "plt.show();\n",
    "\n",
    "#Evaluating the model performances\n",
    "# High privacy budget\n",
    "mean_acc_high, std_acc_high, mean_prec_high, std_prec_high, mean_rec_high, std_rec_high = cross_validate_model(\n",
    "    X_noisy_high, y, linear_svm, random_state=42\n",
    ")\n",
    "\n",
    "# Low privacy budget\n",
    "mean_acc_low, std_acc_low, mean_prec_low, std_prec_low, mean_rec_low, std_rec_low = cross_validate_model(\n",
    "    X_noisy_low, y, linear_svm, random_state=42\n",
    ")\n",
    "\n",
    "#Results display\n",
    "print(\"Noise Magnitudes:\")\n",
    "print(f\"Sample Randomness Noise: {sample_randomness_noise:.4f}\")\n",
    "print(f\"Privacy Noise (High ε): {privacy_noise_high:.4f}\")\n",
    "print(f\"Privacy Noise (Low ε): {privacy_noise_low:.4f}\")\n",
    "\n",
    "print(\"\\nModel Performance:\")\n",
    "print(f\"High Privacy Budget (ε=42.0): Mean Accuracy = {mean_acc_high:.4f}, Std Dev = {std_acc_high:.4f}\")\n",
    "print(f\"Low Privacy Budget (ε=0.5): Mean Accuracy = {mean_acc_low:.4f}, Std Dev = {std_acc_low:.4f}\")\n"
   ]
  },
  {
   "cell_type": "markdown",
   "id": "274895dd",
   "metadata": {},
   "source": [
    "<b><i>Output Analysis</b></i> - From the output provided as well as from the bar diagram above, it can be observed that the sample randomness noise is 0.0421. The privacy noise, having high privacy budget, is 0.023, that is smaller than the sample randomness noise. On the other hand, the privacy noise having low privacy budget, is 1.9985, which is significantly larger than the sample randomness noise. As for the model performance, when the privacy budget is high (42.0), the mean accuracy of the model is 0.7835 with a standard deviation of 0.0518. When the privacy budget is low (0.5), the mean accuracy decreases to 0.7073 with a standard deviation of 0.0656.</b>"
   ]
  },
  {
   "cell_type": "markdown",
   "id": "c6cecb97",
   "metadata": {},
   "source": [
    "<b> DISCUSSION </b>     \n",
    "  \n",
    "Adding noise multiple times introduces cumulative distortion, significantly degrading the model’s performance compared to adding noise only once. Each iteration amplifies data distortion, disrupting essential patterns and correlations in the features. This cumulative effect results in a dataset that no longer reflects real-world distributions, causing the model to struggle with learning meaningful relationships and reducing its ability to generalize to unseen data. Thus, adding noise only once with a well-calibrated privacy budget preserves the model's utility while maintaining privacy.\n",
    "\n",
    "Secondly, models with higher sensitivity require larger noise to ensure the same privacy level because their outputs change more significantly when individual data points are added or removed, as observed in the comparison between Kernel SVM and Linear SVM. The Linear SVM, with lower sensitivity, required less noise and demonstrated better performance across accuracy, precision, and recall metrics. Kernel SVM is highly sensitive to individual data points due to its transformation into a higher-dimensional space. But for Linear SVM, small changes in the data result in smaller adjustments to the model. Thus, reducing global sensitivity through simpler, robust models can preserve more data utility while satisfying privacy constraints, making it a crucial design consideration in privacy-preserving machine learning.\n",
    "\n",
    "Lastly, it can be said that privacy noise can be considered \"free\" when it is smaller than the inherent sample randomness in the data. In such cases, the added noise does not significantly impact the model's performance since the model is already exposed to natural data variability. However, when the privacy noise exceeds the sample randomness, model performance declines noticeably because the added noise overwhelms the true data signal. In differential privacy, noise is injected to mask individual data points, ensuring privacy. If this noise is too large relative to the natural variability (sample randomness) in the data, the model struggles to learn meaningful patterns, reducing accuracy and predictive performance. This highlights the importance of balancing privacy budgets with data characteristics to maintain acceptable model accuracy while ensuring strong privacy protection."
   ]
  },
  {
   "cell_type": "markdown",
   "id": "9eefa014",
   "metadata": {},
   "source": [
    "<b> LIMITATIONS </b>  \n",
    "  \n",
    "Despite the valuable insights gained from the above analysis, several limitations should be considered. The sensitivity values used for the models (Linear SVM and Kernel SVM) were assumed based on theoretical understanding rather than computed from actual data distributions. This simplification may affect the precision of noise calculations. Future work could incorporate data-driven sensitivity estimation for greater accuracy. Moreover, the evaluation was performed on a single dataset, limiting the generalizability of findings. Testing the approach on diverse datasets with different characteristics (e.g., sizes, feature distributions, and class imbalances) could strengthen the three conclusions. Additionally, the Laplacian distribution was used to introduce privacy noise due to its common use in differential privacy. However, other noise mechanisms such as Gaussian noise could be explored, especially in scenarios where alternative privacy definitions like (ϵ,δ)-differential privacy are considered. Also, only Logistic Regression, Linear SVM, and Kernel SVM models were evaluated. Expanding the study to include more models, such as ensemble-based methods or neural networks, could offer broader insights into privacy-utility trade-offs. The evaluation relied on standard classification metrics like accuracy, precision, and recall. Incorporating other utility measures such as F1-score, AUC-ROC, or model interpretability could provide a more comprehensive assessment of performance. Addressing these limitations through further research and extended experimentation can improve the robustness and applicability of the findings, helping to advance privacy-preserving machine learning practices."
   ]
  },
  {
   "cell_type": "markdown",
   "id": "1cee4707",
   "metadata": {},
   "source": [
    "<b> CONCLUSION </b>  \n",
    "  \n",
    "The evaluation of the medical dataset considered in this project, through the three privacy-preserving analyses, highlights critical strategies for safeguarding sensitive health information. Adding noise to the dataset only once ensures that patient data remains useful for predictive modeling while minimizing distortion. This approach preserves essential features like bilirubin and albumin levels, which are crucial for predicting patient survival. Secondly, lowering global sensitivity by using robust models such as linear regression reduces the amount of noise needed for privacy, helping retain meaningful patterns in clinical indicators like cholesterol and prothrombin levels. Lastly, ensuring that privacy noise remains smaller than the dataset's inherent sample randomness helps maintain the predictive accuracy of survival models while protecting sensitive details. These principles help to enable the safe use of medical datasets in clinical research and decision-making.\n",
    "\n",
    "While adding noise multiple times increases privacy guarantees under specific differential privacy frameworks, it comes at a significant performance cost. Therefore, evaluating the trade-off between stricter privacy requirements and acceptable performance degradation is essential. In applications demanding higher privacy guarantees, adding noise multiple times may still be justified, despite the observed performance reduction. Ultimately, selecting a suitable privacy mechanism should depend on the intended use case and its privacy-performance requirements."
   ]
  },
  {
   "cell_type": "markdown",
   "id": "14c6e6e5",
   "metadata": {},
   "source": [
    "<b> REFERENCES </b>  \n",
    "1. https://archive.ics.uci.edu/dataset/878/cirrhosis+patient+survival+prediction+dataset-1\n",
    "2. Dickson, E., Grambsch, P., Fleming, T., Fisher, L., & Langworthy, A. (1989). Cirrhosis Patient Survival Prediction [Dataset]. UCI Machine Learning Repository. https://doi.org/10.24432/C5R02G.\n",
    "3. https://pandas.pydata.org/docs/index.html\n",
    "4. https://machinelearningmastery.com/robust-scaler-transforms-for-machine-learning/\n",
    "5. https://desfontain.es/blog/large-epsilons.html\n",
    "6. https://programming-dp.com/cover.html"
   ]
  }
 ],
 "metadata": {
  "kernelspec": {
   "display_name": "Python 3 (ipykernel)",
   "language": "python",
   "name": "python3"
  },
  "language_info": {
   "codemirror_mode": {
    "name": "ipython",
    "version": 3
   },
   "file_extension": ".py",
   "mimetype": "text/x-python",
   "name": "python",
   "nbconvert_exporter": "python",
   "pygments_lexer": "ipython3",
   "version": "3.11.5"
  }
 },
 "nbformat": 4,
 "nbformat_minor": 5
}
